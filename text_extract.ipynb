{
 "cells": [
  {
   "cell_type": "code",
   "execution_count": 1,
   "id": "4bed45e9",
   "metadata": {},
   "outputs": [],
   "source": [
    "import os\n",
    "\n",
    "os.environ[\"MISTRAL_API_KEY\"] = \"xu6Nf0vlDRRRRoxdurznK9CACvQFgjXi\""
   ]
  },
  {
   "cell_type": "code",
   "execution_count": null,
   "id": "dea32006",
   "metadata": {},
   "outputs": [],
   "source": [
    "from mistralai import Mistral\n",
    "import os\n",
    "\n",
    "client = Mistral(api_key=os.environ[\"MISTRAL_API_KEY\"])\n",
    "\n",
    "def process_and_query(pdf_url: str, user_query: str):\n",
    "    # Step 1: OCR Processing\n",
    "    ocr_response = client.ocr.process(\n",
    "        model=\"mistral-ocr-latest\",\n",
    "        document={\"type\": \"document_url\", \"document_url\": pdf_url},\n",
    "        include_image_base64=False\n",
    "    )\n",
    "    # Step 2: Combine extracted text\n",
    "    full_text = \"\\n\\n\".join(page.markdown for page in ocr_response.pages)\n",
    "    # Step 3: Query with context\n",
    "    response = client.chat.complete(\n",
    "        model=\"mistral-large-latest\",\n",
    "        messages=[{\n",
    "            \"role\": \"user\",\n",
    "            \"content\": f\"Document content:\\n{full_text}\\n\\nQuestion: {user_query}\"\n",
    "        }]\n",
    "    )\n",
    "    return response.choices[0].message.content\n"
   ]
  },
  {
   "cell_type": "code",
   "execution_count": 5,
   "id": "6aa728de",
   "metadata": {},
   "outputs": [
    {
     "name": "stdout",
     "output_type": "stream",
     "text": [
      "The total amount on the receipt is ₹13,715.52.\n"
     ]
    }
   ],
   "source": [
    "pdf_url= \"https://drive.google.com/uc?export=download&id=1uUcF1mRNg75J2Yujc8ckf833vTS28V4G\"\n",
    "answer = process_and_query(pdf_url, \"what is the total amount?\")\n",
    "print(answer)"
   ]
  },
  {
   "cell_type": "code",
   "execution_count": 6,
   "id": "fbb8a0a9",
   "metadata": {},
   "outputs": [
    {
     "name": "stdout",
     "output_type": "stream",
     "text": [
      "The GST (Goods and Services Tax) percentage being applied is 12.0%. This information is provided in the line \"GST 12.0%\" under the subtotal in the receipt.\n"
     ]
    }
   ],
   "source": [
    "pdf_url= \"https://drive.google.com/uc?export=download&id=1uUcF1mRNg75J2Yujc8ckf833vTS28V4G\"\n",
    "answer = process_and_query(pdf_url, \"what percentage of gst being applied?\")\n",
    "print(answer)"
   ]
  },
  {
   "cell_type": "code",
   "execution_count": 20,
   "id": "cad53e06",
   "metadata": {},
   "outputs": [
    {
     "name": "stdout",
     "output_type": "stream",
     "text": [
      "The amount for the Gandhi mouse pad is ₹297.00.\n"
     ]
    }
   ],
   "source": [
    "pdf_url= \"https://drive.google.com/uc?export=download&id=1uUcF1mRNg75J2Yujc8ckf833vTS28V4G\"\n",
    "answer = process_and_query(pdf_url, \"what is the amount of gandhi mouse pad\")\n",
    "print(answer)"
   ]
  },
  {
   "cell_type": "code",
   "execution_count": 11,
   "id": "66ad7cb4",
   "metadata": {},
   "outputs": [
    {
     "name": "stdout",
     "output_type": "stream",
     "text": [
      "The landlord is ABC Properties, and the tenant is Silvia Mando.\n"
     ]
    }
   ],
   "source": [
    "pdf_url = \"https://drive.google.com/uc?export=download&id=1wRCbR8E_osO56ZLQ_dFp76oKJFYHxetF\"\n",
    "answer = process_and_query(pdf_url, \"who was the landlord and the tenant?\")\n",
    "print(answer)"
   ]
  },
  {
   "cell_type": "code",
   "execution_count": 23,
   "id": "9434cc8e",
   "metadata": {},
   "outputs": [
    {
     "name": "stdout",
     "output_type": "stream",
     "text": [
      "The unit price of the custom icon package is ₹975.00.\n"
     ]
    }
   ],
   "source": [
    "pdf_url = \"https://drive.google.com/uc?export=download&id=1uUcF1mRNg75J2Yujc8ckf833vTS28V4G\"\n",
    "answer = process_and_query(pdf_url, \"what is the unit price of custom icon package?\")\n",
    "print(answer)"
   ]
  },
  {
   "cell_type": "code",
   "execution_count": 12,
   "id": "9aa9b039",
   "metadata": {},
   "outputs": [
    {
     "name": "stdout",
     "output_type": "stream",
     "text": [
      "The agreed rent, as stated in the document, is $685 per month.\n"
     ]
    }
   ],
   "source": [
    "answer = process_and_query(pdf_url, \"what is the agreed rent?\")\n",
    "print(answer)"
   ]
  },
  {
   "cell_type": "code",
   "execution_count": 13,
   "id": "42a9aa47",
   "metadata": {},
   "outputs": [
    {
     "name": "stdout",
     "output_type": "stream",
     "text": [
      "Sure, let's break down the rental agreement into simpler terms:\n",
      "\n",
      "### Basic Information\n",
      "- **Date**: June 15, 2012\n",
      "- **Parties**: ABC Properties (Landlord) and Silvia Mando (Tenant)\n",
      "- **Location**: 9876 Cherry Avenue, Apartment 426\n",
      "\n",
      "### Terms and Conditions\n",
      "\n",
      "1. **Lease Duration**:\n",
      "   - The lease is for one year, starting July 1, 2012, and ending June 30, 2013.\n",
      "   - After this period, the lease automatically becomes month-to-month unless either party gives a 30-day notice to end it.\n",
      "\n",
      "2. **Rent**:\n",
      "   - The rent is $685 per month.\n",
      "   - Rent is due on the 1st of each month and must be paid in advance.\n",
      "   - The first month's rent must be paid before moving in.\n",
      "\n",
      "3. **Payment Method**:\n",
      "   - Rent can be paid by personal check, cashier's check, or money order made out to the Landlord.\n",
      "\n",
      "4. **Payment Procedure**:\n",
      "   - Rent can be mailed to 426 Main Street, Anycity, USA, or paid in person at the same address.\n",
      "   - The Landlord can advise other ways to pay rent if needed.\n",
      "\n",
      "5. **Late Payment**:\n",
      "   - There is a 3-day grace period for rent.\n",
      "   - If rent is not paid by the 4th of the month, a $25 late fee applies, plus $5 for each additional day until rent is paid.\n",
      "   - No excuses for late payment will be accepted.\n",
      "\n",
      "6. **Bad Checks**:\n",
      "   - If a check bounces, the tenant must pay a $25 fee.\n",
      "   - Future rent payments must be in cash or money order if a check bounces.\n",
      "\n",
      "7. **Security Deposit**:\n",
      "   - The tenant must pay a $685 security deposit.\n",
      "   - This deposit is refundable when the tenant moves out, but it will be used to cover any damages.\n",
      "   - The deposit will be returned within 60 days after the tenant moves out, minus any charges for damages or cleaning.\n",
      "\n",
      "8. **Cleaning Fee**:\n",
      "   - The tenant must return the property in the same clean condition as received.\n",
      "   - If the property needs professional cleaning, a minimum $200 cleaning fee will be charged.\n",
      "\n",
      "9. **Removal of Landlord's Property**:\n",
      "   - If anyone removes the Landlord's property without permission, it will be considered abandonment and legal action may be taken.\n",
      "\n",
      "10. **Vehicles and Garage Use**:\n",
      "    - Only one vehicle is allowed on the premises or in the garage.\n",
      "    - Vehicles must be operable and licensed.\n",
      "    - Vehicles must be parked in assigned spaces and kept clean of oil drippings.\n",
      "    - Special permission is needed for parking boats, trailers, etc.\n",
      "\n",
      "11. **Utilities**:\n",
      "    - The tenant is responsible for paying for electricity, gas, heating, telephone, and any other utilities.\n",
      "    - The Landlord will pay for water, sewer, and garbage disposal.\n",
      "    - The Landlord can deduct unpaid utility bills from the security deposit.\n",
      "\n",
      "12. **Building Problems**:\n",
      "    - The tenant must immediately notify the Landlord of any serious building problems like roof leaks, termite activity, foundation cracks, etc.\n",
      "    - If the tenant fails to notify the Landlord promptly, they may be held financially responsible.\n",
      "\n",
      "13. **Pets**:\n",
      "    - Pets are allowed only with the Landlord's written permission.\n",
      "    - An additional $25 per month pet-rent charge applies.\n",
      "    - A pet-application sheet must be submitted before moving in.\n",
      "    - Pets must be supervised and cleaned up after.\n",
      "    - If the pet is dangerous or a nuisance, it may not be allowed or additional measures may be required.\n",
      "\n",
      "14. **Full Disclosure**:\n",
      "    - The tenant acknowledges understanding all terms and responsibilities of the agreement.\n",
      "    - Signing the agreement means the tenant understands and agrees to all terms.\n",
      "\n",
      "### Signatures\n",
      "- **Tenant**: __________________ Date: ___________\n",
      "- **Landlord**: __________________ Date: ___________\n",
      "\n",
      "This summary covers the key points of the rental agreement in simpler language.\n"
     ]
    }
   ],
   "source": [
    "answer = process_and_query(pdf_url,\"Explain the whole agreement in simple and lucid language\")\n",
    "print(answer)"
   ]
  },
  {
   "cell_type": "code",
   "execution_count": 14,
   "id": "e608cee8",
   "metadata": {},
   "outputs": [
    {
     "name": "stdout",
     "output_type": "stream",
     "text": [
      "The security deposit is addressed in Section 7 of the rental agreement. Here are the key points:\n",
      "\n",
      "1. **Amount**: The tenant agrees to pay a security deposit of $685.\n",
      "2. **Purpose**: The deposit is held to cover any possible damage to the property.\n",
      "3. **Interest**: No interest will be paid on the security deposit.\n",
      "4. **Use**: The deposit will not be applied to back or future rent.\n",
      "5. **Refund**: The deposit will be refunded upon the tenant vacating the property and returning the keys, minus any deductions for damages, repairs, cleaning, etc.\n",
      "6. **Inspection**: The landlord will inspect the premises within 30 working days after the tenant vacates to assess any damages.\n",
      "7. **Return of Deposit**: The deposit, minus any necessary charges, will be returned to the tenant with a written explanation of deductions within 60 days after they have vacated the property.\n",
      "\n",
      "Here is the exact text from the agreement:\n",
      "\n",
      "\"Tenants hereby agree to pay a security deposit of $685 to be refunded upon vacating, returning the keys to the Landlord and termination of this contract according to other terms herein agreed. This deposit will be held to cover any possible damage to the property. No interest will be paid on this money and in no case will it be applied to back or future rent. It will be held intact by Landlord until at least thirty (30) working days after Tenants have vacated the property. At that time Landlord will inspect the premises thoroughly and assess any damages and/or needed repairs. This deposit money minus any necessary charges for missing/dead light bulbs, repairs, cleaning, etc., will then be returned to Tenant with a written explanation of deductions, within 60 days after they have vacated the property.\"\n"
     ]
    }
   ],
   "source": [
    "answer = process_and_query(pdf_url, \"What about the security deposit ?\")\n",
    "print(answer)"
   ]
  },
  {
   "cell_type": "code",
   "execution_count": 15,
   "id": "dcbc6aaa",
   "metadata": {},
   "outputs": [
    {
     "name": "stdout",
     "output_type": "stream",
     "text": [
      "The rent due date is the 1st day of each month.\n"
     ]
    }
   ],
   "source": [
    "answer = process_and_query(pdf_url, \"what is the rent due date?\")\n",
    "print(answer)"
   ]
  },
  {
   "cell_type": "code",
   "execution_count": 16,
   "id": "ac67b7f5",
   "metadata": {},
   "outputs": [
    {
     "name": "stdout",
     "output_type": "stream",
     "text": [
      "According to the rental agreement, pets are allowed on the premises only with the Landlord's written permission. Here are the key points regarding pets:\n",
      "\n",
      "1. **Permission Required**: Tenants must obtain written permission from the Landlord to keep pets on the premises.\n",
      "2. **Listed Pets**: Only those pets listed on the Rental Application will be allowed unless subsequent written permission has been granted.\n",
      "3. **Service Animals**: Animals trained to serve the handicapped, such as seeing-eye dogs, hearing dogs, or service dogs, are allowed as long as they are in direct service of those they were trained to serve and the Landlord is notified in advance in writing.\n",
      "4. **Pet Rent Charge**: If permission is granted, tenants are required to pay an additional $25 per month pet-rent charge for one or more pets.\n",
      "5. **Pet Application**: A pet-application sheet must be submitted before move-in.\n",
      "6. **Pet Behavior and Care**: The agreement outlines specific conditions regarding pet behavior, care, and consequences for violations, such as fines or training requirements.\n",
      "\n",
      "In summary, pets are allowed with the Landlord's written permission, and specific conditions and charges apply.\n"
     ]
    }
   ],
   "source": [
    "answer = process_and_query(pdf_url, \"what pets are allowed in the house?\")\n",
    "print(answer)"
   ]
  },
  {
   "cell_type": "code",
   "execution_count": 17,
   "id": "de22dfe4",
   "metadata": {},
   "outputs": [
    {
     "name": "stdout",
     "output_type": "stream",
     "text": [
      "According to the document, the landlord is responsible for the following utilities and services:\n",
      "\n",
      "- Water and sewer\n",
      "- Garbage and trash disposal\n"
     ]
    }
   ],
   "source": [
    "answer = process_and_query(pdf_url, \"what are the different utilities and services provided by landlord?\")\n",
    "print(answer)"
   ]
  },
  {
   "cell_type": "code",
   "execution_count": 18,
   "id": "420db06e",
   "metadata": {},
   "outputs": [
    {
     "name": "stdout",
     "output_type": "stream",
     "text": [
      "Based on the document, the tenant is responsible for the following utilities and services:\n",
      "\n",
      "- Electricity\n",
      "- Gas\n",
      "- Heating\n",
      "- Telephone\n",
      "- All other utilities and services not listed under the landlord's responsibilities\n",
      "\n",
      "The landlord is responsible for:\n",
      "\n",
      "- Water and sewer\n",
      "- Garbage and trash disposal\n"
     ]
    }
   ],
   "source": [
    "answer = process_and_query(pdf_url, \"what are the utilities and services for which tenant is responsible?\")\n",
    "print(answer)"
   ]
  },
  {
   "cell_type": "code",
   "execution_count": 19,
   "id": "02fe1b87",
   "metadata": {},
   "outputs": [
    {
     "name": "stdout",
     "output_type": "stream",
     "text": [
      "The key dates of the agreement and the termination details are as follows:\n",
      "\n",
      "1. **Agreement Date**: The agreement was made on the 15th day of June, 2012.\n",
      "\n",
      "2. **Lease Term**: The lease is for a fixed term of one year, beginning on July 1, 2012, and ending on June 30, 2013.\n",
      "\n",
      "3. **Automatic Renewal**: Upon expiration, the agreement shall become a month-to-month agreement automatically, unless either the Tenant or the Landlord notifies the other party in writing at least 30 days prior to expiration that they do not wish the agreement to continue.\n",
      "\n",
      "4. **Rent Due Date**: Rent is due on the 1st day of each month during the term of the agreement. There is a 3-day grace period, after which a late fee applies.\n",
      "\n",
      "5. **Security Deposit Refund**: The security deposit will be held by the Landlord until at least thirty (30) working days after the Tenant has vacated the property. The deposit, minus any necessary charges, will be returned to the Tenant within 60 days after they have vacated the property.\n",
      "\n",
      "6. **Termination Notification**: To terminate the agreement, either party must notify the other in writing at least 30 days prior to the expiration of the lease term.\n",
      "\n",
      "So, the key dates are:\n",
      "- Agreement made: June 15, 2012\n",
      "- Lease start: July 1, 2012\n",
      "- Lease end: June 30, 2013\n",
      "- Rent due: 1st of each month\n",
      "- Security deposit refund: Within 60 days after vacating\n"
     ]
    }
   ],
   "source": [
    "answer = process_and_query(pdf_url, \"what are the key dates of the agreement and when the agreement gets terminated?\")\n",
    "print(answer)"
   ]
  },
  {
   "cell_type": "code",
   "execution_count": 26,
   "id": "67b1fdd1",
   "metadata": {},
   "outputs": [
    {
     "name": "stdout",
     "output_type": "stream",
     "text": [
      "To calculate the total rent after one year, we need to consider the monthly rent and any additional charges that might apply. According to the agreement:\n",
      "\n",
      "1. **Monthly Rent:** $\\$685$ per month.\n",
      "\n",
      "Since the lease is for one year (12 months), the total base rent for the year would be:\n",
      "\\[ 12 \\times \\$685 = \\$8,220 \\]\n",
      "\n",
      "2. **Late Fees:** There is a $25 late fee plus an additional $5 per day for every day thereafter until the rent is paid. However, without specific information on late payments, we cannot calculate this.\n",
      "\n",
      "3. **Pet Rent Charge:** If the tenant has pets and has obtained written permission, there is an additional $25 per month pet-rent charge. If the tenant has a pet for the entire year, the additional charge would be:\n",
      "\\[ 12 \\times \\$25 = \\$300 \\]\n",
      "\n",
      "4. **Cleaning Fee:** There is a minimum $200 cleaning fee if the property is not returned in the same condition. This fee would be applied at the end of the lease if applicable.\n",
      "\n",
      "5. **Security Deposit:** The security deposit of $685 is refundable and not part of the rent. It will be returned to the tenant minus any deductions for damages, cleaning, etc.\n",
      "\n",
      "Assuming no late fees and no additional charges for damages or cleaning, the total rent for one year would be:\n",
      "\\[ \\$8,220 \\text{ (base rent)} + \\$300 \\text{ (pet rent charge, if applicable)} = \\$8,520 \\]\n",
      "\n",
      "If the tenant does not have a pet, the total rent would be:\n",
      "\\[ \\$8,220 \\]\n",
      "\n",
      "If the property is not returned in the same condition and the tenant is charged the minimum cleaning fee, the total cost would be:\n",
      "\\[ \\$8,520 \\text{ (total rent with pet)} + \\$200 \\text{ (cleaning fee)} = \\$8,720 \\]\n",
      "\n",
      "Or, if no pet:\n",
      "\\[ \\$8,220 \\text{ (total rent without pet)} + \\$200 \\text{ (cleaning fee)} = \\$8,420 \\]\n",
      "\n",
      "Without specific information on late payments, pet ownership, or additional cleaning fees, the total rent for one year is:\n",
      "\\[ \\$8,220 \\]\n"
     ]
    }
   ],
   "source": [
    "pdf_url = \"https://drive.google.com/uc?export=download&id=1wRCbR8E_osO56ZLQ_dFp76oKJFYHxetF\"\n",
    "answer = process_and_query(pdf_url, \"what will be the total rent after 1 years?\")\n",
    "print(answer)"
   ]
  },
  {
   "cell_type": "code",
   "execution_count": null,
   "id": "7909e65e",
   "metadata": {},
   "outputs": [],
   "source": []
  }
 ],
 "metadata": {
  "kernelspec": {
   "display_name": "base",
   "language": "python",
   "name": "python3"
  },
  "language_info": {
   "codemirror_mode": {
    "name": "ipython",
    "version": 3
   },
   "file_extension": ".py",
   "mimetype": "text/x-python",
   "name": "python",
   "nbconvert_exporter": "python",
   "pygments_lexer": "ipython3",
   "version": "3.9.12"
  }
 },
 "nbformat": 4,
 "nbformat_minor": 5
}
